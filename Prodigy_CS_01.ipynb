{
  "nbformat": 4,
  "nbformat_minor": 0,
  "metadata": {
    "colab": {
      "provenance": [],
      "authorship_tag": "ABX9TyMG6HqxLMt2NYHRAOzHS93F",
      "include_colab_link": true
    },
    "kernelspec": {
      "name": "python3",
      "display_name": "Python 3"
    },
    "language_info": {
      "name": "python"
    }
  },
  "cells": [
    {
      "cell_type": "markdown",
      "metadata": {
        "id": "view-in-github",
        "colab_type": "text"
      },
      "source": [
        "<a href=\"https://colab.research.google.com/github/Ananyashetty2320/CODSOFT3/blob/main/Prodigy_CS_01.ipynb\" target=\"_parent\"><img src=\"https://colab.research.google.com/assets/colab-badge.svg\" alt=\"Open In Colab\"/></a>"
      ]
    },
    {
      "cell_type": "markdown",
      "source": [
        "To create a python program using caesar cipher Algo"
      ],
      "metadata": {
        "id": "1YScYidfR2df"
      }
    },
    {
      "cell_type": "code",
      "source": [
        "def caesar_encrypt(message, shift):\n",
        "    encrypted_message = \"\"\n",
        "    for char in message:\n",
        "        if char.isalpha():\n",
        "            # Shift within the alphabet\n",
        "            shift_base = 65 if char.isupper() else 97\n",
        "            encrypted_message += chr((ord(char) - shift_base + shift) % 26 + shift_base)\n",
        "        else:\n",
        "            # Non-alphabet characters remain unchanged\n",
        "            encrypted_message += char\n",
        "    return encrypted_message\n",
        "\n",
        "def caesar_decrypt(message, shift):\n",
        "    decrypted_message = \"\"\n",
        "    for char in message:\n",
        "        if char.isalpha():\n",
        "            # Shift within the alphabet\n",
        "            shift_base = 65 if char.isupper() else 97\n",
        "            decrypted_message += chr((ord(char) - shift_base - shift) % 26 + shift_base)\n",
        "        else:\n",
        "            # Non-alphabet characters remain unchanged\n",
        "            decrypted_message += char\n",
        "    return decrypted_message\n",
        "\n",
        "def main():\n",
        "    print(\"Caesar Cipher Program\")\n",
        "    message = input(\"Enter the message: \")\n",
        "    shift = int(input(\"Enter the shift value (integer): \"))\n",
        "\n",
        "    # Encrypting the message\n",
        "    encrypted_message = caesar_encrypt(message, shift)\n",
        "    print(f\"Encrypted message: {encrypted_message}\")\n",
        "\n",
        "    # Decrypting the message\n",
        "    decrypted_message = caesar_decrypt(encrypted_message, shift)\n",
        "    print(f\"Decrypted message: {decrypted_message}\")\n",
        "\n",
        "if __name__ == \"__main__\":\n",
        "    main()\n"
      ],
      "metadata": {
        "colab": {
          "base_uri": "https://localhost:8080/"
        },
        "id": "SbTbqoJhRxTj",
        "outputId": "d9f22ecc-a97a-48f7-9d73-a55aec96b4ff"
      },
      "execution_count": 1,
      "outputs": [
        {
          "output_type": "stream",
          "name": "stdout",
          "text": [
            "Caesar Cipher Program\n",
            "Enter the message: Hey Ananya ! How are you?\n",
            "Enter the shift value (integer): 5\n",
            "Encrypted message: Mjd Fsfsdf ! Mtb fwj dtz?\n",
            "Decrypted message: Hey Ananya ! How are you?\n"
          ]
        }
      ]
    }
  ]
}